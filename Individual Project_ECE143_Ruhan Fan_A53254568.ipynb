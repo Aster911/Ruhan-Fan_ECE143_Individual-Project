{
 "cells": [
  {
   "cell_type": "markdown",
   "metadata": {},
   "source": [
    "# Individual Project for ECE 143"
   ]
  },
  {
   "cell_type": "markdown",
   "metadata": {},
   "source": [
    "### Project Description\n",
    "##### Student: Ruhan Fan\n",
    "##### PID:A53254568\n",
    "This is an analysis of Ad-Hoc Communications Network.\n",
    "Detailed information are illustrated in the document attatched in repository \"ECE143IndividualClassProject.pdf\"\n",
    "\n",
    "#### Requirement:\n",
    "* All rectangular sections have integer-based corners. \n",
    "* All rectangular sections must be contained in the overall rectangular footprint. \n",
    "* The height and width of each rectangular section is sampled from a uniform distribution.\n",
    "* Positions of the windows are also determined by uniform random distribution. \n",
    "* All footprints must be rectangles (not general polygons). \n",
    "* When a new tower comes online, if its coverage rectangle intersects the pre-existing composite footprint, then that new tower’s coverage is trimmed such that its maximum remaining coverage area is retained.\n",
    "\n",
    "#### This project includes two parts:\n",
    "##### Part 1 Drawing Function and Solutions :\n",
    "This part will include the ways to deal with the problem illustrated for this assignment.\n",
    "##### Part 2 Solving Problems\n",
    "This part will addressed three problems listed in the project description. "
   ]
  },
  {
   "cell_type": "markdown",
   "metadata": {},
   "source": [
    "##### Part 1 Drawing Function and Solutions\n",
    "###### This is the most important component of this project. It will explain the way we choose to plan \"an ad-hoc communications network over a large rectangular region\" and get the maximize coverage area.\n",
    "\n",
    "###### In order to implement an efficient solution, this is my mainly idea:\n",
    "* Each rectangle is characterized by two points (the left-bottom point and the right-top point), so we can use 4 parameters (xmin,xmax,ymin,ymax) to characterize a rectangle.\n",
    "* Build a class of \"rectangle\" to transfer the object to \"rectangle\", and then \n",
    "* Bulid a class of \"map\" to represents the entire map/region to be covered by the rectangles.\n",
    "* Build a generator that can generate random tower \n",
    "* Define the way to \"trim\" overlapped rectangle:\n",
    "Put the rectangle on the map randomly based on the two coordination.\n",
    "Decide whether the later rectangle has any conflict with existing rectangles on the map.\n",
    "If so, we find the largest sub-rectangle in rectangle with no conflict, and add it to the map.\n",
    "Repeat step above until it's fully covered."
   ]
  },
  {
   "cell_type": "code",
   "execution_count": 121,
   "metadata": {},
   "outputs": [],
   "source": [
    "import numpy as np\n",
    "import matplotlib.pyplot as plt\n",
    "import matplotlib.patches as patches"
   ]
  },
  {
   "cell_type": "code",
   "execution_count": 122,
   "metadata": {},
   "outputs": [],
   "source": [
    "class Rectangle():\n",
    "    '''\n",
    "    Each rectangle is characterized by 4 parameters\n",
    "    xmin: the smallest x_coordinate\n",
    "    xmax: the largest x_coordinate\n",
    "    ymin: the smallest y_coordinate\n",
    "    ymax: the largest y_coordinate\n",
    "    \n",
    "    Example: xmin=0, xmax=5, ymin=0, ymax=3 is a rectangle with vertices\n",
    "             (0, 0), (5, 0), (0, 3), (5, 3)\n",
    "    '''\n",
    "    def __init__(self, position=[0,0,0,0]):\n",
    "        # the initializer takes a list of 4 parameters as input\n",
    "        # the list is [xmin, xmax, ymin, ymax]\n",
    "        self.xmin, self.xmax, self.ymin, self.ymax = position\n",
    "    def get_position(self):\n",
    "        # this method returns the position parameters of the rectangle in a list\n",
    "        return [self.xmin, self.xmax, self.ymin, self.ymax]\n",
    "    def set_position(self, position):\n",
    "        # this method modifies the position parameter of the rectangle\n",
    "        self.xmin, self.xmax, self.ymin, self.ymax = position"
   ]
  },
  {
   "cell_type": "code",
   "execution_count": 123,
   "metadata": {},
   "outputs": [],
   "source": [
    "class Map():\n",
    "    '''\n",
    "    This class represents the entire map/region to be covered by the rectangles.\n",
    "    '''\n",
    "    def __init__(self, shape=(0,0)):\n",
    "        # The initialzer takes the shape of the map.\n",
    "        # The shape is a tuple of two integers.\n",
    "        # Shape (A, B) means the map has A rows and B columns of squares.\n",
    "        self.shape = shape\n",
    "        # isCovered stores whether squares on the map are covered.\n",
    "        # isCovered[i, j] = 1 if the cell at i-th row and j-th column is already covered.\n",
    "        #                 = 0 otherwise\n",
    "        self.isCovered = np.zeros(shape) \n",
    "        # rectangles_on_map is a list storing the rectangles added onto the map\n",
    "        self.rectangles_on_map = []\n",
    "        # n is the total number of cells\n",
    "        self.n = shape[0]*shape[1]\n",
    "        \n",
    "    def return_map(self):\n",
    "        '''\n",
    "        This method gets the status of whether cells are covered.\n",
    "        '''\n",
    "        return self.isCovered\n",
    "    \n",
    "    def rect_on_map_list(self):\n",
    "        '''\n",
    "        This method gets the list of rectangles on the map.\n",
    "        '''\n",
    "        return self.rectangles_on_map\n",
    "    \n",
    "    def cover(self, rect):\n",
    "        '''\n",
    "        This method update the status of cells covered by rect.\n",
    "        '''\n",
    "        xmin, xmax, ymin, ymax = rect.get_position()\n",
    "        self.isCovered[xmin:xmax+1, ymin:ymax+1] = np.ones((xmax-xmin+1, ymax-ymin+1))\n",
    "    \n",
    "    def has_conflict(self, rect):\n",
    "        '''\n",
    "        This method is a rectangle has conflict with existing rectangles on the map.\n",
    "        '''\n",
    "        xmin, xmax, ymin, ymax = rect.get_position()\n",
    "        isCovered = self.return_map()\n",
    "        # get the isCovered status of cells in the rectangle\n",
    "        isCovered_region = isCovered[xmin:xmax+1, ymin:ymax+1]\n",
    "        # if any of them has been covered, return a conflict.\n",
    "        if np.sum(np.sum(isCovered_region)) > 0:\n",
    "            return True\n",
    "        else:\n",
    "            return False\n",
    "    \n",
    "    def add_rectangle(self, rect):\n",
    "        '''\n",
    "        This method adds a rectangle rect to the map.\n",
    "        If rect has any conflict with existing rectangles on the map, \n",
    "        we find the largest sub-rectangle in rect with no conflict, and add it to the map.\n",
    "        '''\n",
    "        xmin, xmax, ymin, ymax = rect.get_position()\n",
    "        # possible_size stores whether it's possible to find sub-rectangles of particular size.\n",
    "        # possible_size[i, j] = 1 if it's possible to find a rect of height i+1 and width j+1\n",
    "        # that has no conflict with existing ones on the map\n",
    "        possible_size = np.ones((xmax-xmin+1, ymax-ymin+1))\n",
    "        best_size = 0  # size the largest sub-rectangle.\n",
    "        best_rect = None\n",
    "        # check there exists a rectangle of height h+1 and width w+1 that can be added to the map\n",
    "        for h in range(xmax-xmin+1):\n",
    "            for w in range(ymax-ymin+1):\n",
    "                size = (h+1)*(w+1) \n",
    "                if (size <= best_size) or (possible_size[h, w]==0):\n",
    "                    # if the size of the rect we are checking if smaller than something we already have,\n",
    "                    # don't bother\n",
    "                    continue\n",
    "                else:\n",
    "                    # find if there exists a legit rectangle of height h+1 and width w+1\n",
    "                    possible_rect, isPossible = self.find_legit_rect(rect, h, w)\n",
    "                    if isPossible:\n",
    "                        best_rect = possible_rect\n",
    "                        best_size = size\n",
    "                    else:\n",
    "                        # if we cannot one with height h+1 and width w+1, \n",
    "                        # then we cannot find one with height >= h+1 and width >= w+1\n",
    "                        possible_size[h:, w:] = 0\n",
    "                        #possible_size[:, w+1:] = 0\n",
    "        if best_rect is not None:\n",
    "            # cover the map with the best sub-rectangle we have found.\n",
    "            self.cover(best_rect)\n",
    "            self.rectangles_on_map.append(best_rect)\n",
    "        \n",
    "    def find_legit_rect(self, rect, h, w):\n",
    "        '''\n",
    "        This method finds whether there exists a sub-rectangle in rect\n",
    "        with height h+1 and width w+1 that doesn't conflict with existing ones on the map.\n",
    "        '''\n",
    "        xmin,xmax,ymin,ymax = rect.get_position()\n",
    "        for i in range(xmin, xmax+1-h):\n",
    "            for j in range(ymin, ymax+1-w):\n",
    "                small_rect = Rectangle([i, i+h, j, j+w])\n",
    "                if self.has_conflict(small_rect):\n",
    "                    pass\n",
    "                else:\n",
    "                    # returns a legit rectangle immediately when we find one.\n",
    "                    return [small_rect, True]\n",
    "        return [None, False]\n",
    "    \n",
    "    def fraction_of_map_covered(self):\n",
    "        '''\n",
    "        This method finds the fraction of map already being covered.\n",
    "        '''\n",
    "        n_covered = np.sum(np.sum(self.isCovered))\n",
    "        return n_covered*1.0/self.n\n",
    "    \n",
    "    def is_fully_covered(self):\n",
    "        '''\n",
    "        This method checks if the map is fully covered.\n",
    "        '''\n",
    "        n_covered = np.sum(np.sum(self.isCovered))\n",
    "        return n_covered==self.n\n",
    "    "
   ]
  },
  {
   "cell_type": "code",
   "execution_count": 124,
   "metadata": {},
   "outputs": [],
   "source": [
    "# generate random rectangles\n",
    "def create_rectangle(shape):\n",
    "    '''\n",
    "    This method random generates a rectangle within the map shape.\n",
    "    '''\n",
    "    xlim, ylim = shape\n",
    "    xmin, xmax = np.sort(np.random.choice(range(xlim),2,replace=True))\n",
    "    ymin, ymax = np.sort(np.random.choice(range(ylim),2,replace=True))\n",
    "    return Rectangle([xmin, xmax, ymin, ymax])"
   ]
  },
  {
   "attachments": {},
   "cell_type": "markdown",
   "metadata": {},
   "source": [
    "#### Part 2 Solving Problems\n",
    "This part will addressed three problems listed in the project description.  \n",
    "\n",
    "##### Question 1 & 2: \n",
    "##### 1. Given an overall desired coverage footprint and a sequence of n communications towers, what is the resulting resolved coverage?\n",
    "##### 2. What is the total area of coverage relative to the desired total coverage area of the original footprint? That is, are there any gaps in coverage?"
   ]
  },
  {
   "cell_type": "markdown",
   "metadata": {},
   "source": [
    "##### Based on given desired coverage footprint and a sequence of n communication towers, there will list the corresponding number of rectangles and fraction of map covered.\n",
    "Here we use a shape of 100*100 and a number of 1000 rectangles as an example:"
   ]
  },
  {
   "cell_type": "code",
   "execution_count": 125,
   "metadata": {},
   "outputs": [
    {
     "name": "stdout",
     "output_type": "stream",
     "text": [
      "number of rectangles: 10 fraction of map covered: 0.5849\n",
      "number of rectangles: 20 fraction of map covered: 0.7063\n",
      "number of rectangles: 30 fraction of map covered: 0.7321\n",
      "number of rectangles: 40 fraction of map covered: 0.7663\n",
      "number of rectangles: 50 fraction of map covered: 0.811\n",
      "number of rectangles: 60 fraction of map covered: 0.8413\n",
      "number of rectangles: 70 fraction of map covered: 0.8481\n",
      "number of rectangles: 80 fraction of map covered: 0.8701\n",
      "number of rectangles: 90 fraction of map covered: 0.877\n",
      "number of rectangles: 100 fraction of map covered: 0.9061\n",
      "number of rectangles: 110 fraction of map covered: 0.9166\n",
      "number of rectangles: 120 fraction of map covered: 0.9236\n",
      "number of rectangles: 130 fraction of map covered: 0.9238\n",
      "number of rectangles: 140 fraction of map covered: 0.9383\n",
      "number of rectangles: 150 fraction of map covered: 0.9466\n",
      "number of rectangles: 160 fraction of map covered: 0.9483\n",
      "number of rectangles: 170 fraction of map covered: 0.9518\n",
      "number of rectangles: 180 fraction of map covered: 0.9534\n",
      "number of rectangles: 190 fraction of map covered: 0.9534\n",
      "number of rectangles: 200 fraction of map covered: 0.9534\n",
      "number of rectangles: 210 fraction of map covered: 0.9568\n",
      "number of rectangles: 220 fraction of map covered: 0.9616\n",
      "number of rectangles: 230 fraction of map covered: 0.9635\n",
      "number of rectangles: 240 fraction of map covered: 0.9653\n",
      "number of rectangles: 250 fraction of map covered: 0.966\n",
      "number of rectangles: 260 fraction of map covered: 0.9667\n",
      "number of rectangles: 270 fraction of map covered: 0.971\n",
      "number of rectangles: 280 fraction of map covered: 0.9711\n",
      "number of rectangles: 290 fraction of map covered: 0.9721\n",
      "number of rectangles: 300 fraction of map covered: 0.9722\n",
      "number of rectangles: 310 fraction of map covered: 0.9723\n",
      "number of rectangles: 320 fraction of map covered: 0.9726\n",
      "number of rectangles: 330 fraction of map covered: 0.9729\n",
      "number of rectangles: 340 fraction of map covered: 0.9763\n",
      "number of rectangles: 350 fraction of map covered: 0.9774\n",
      "number of rectangles: 360 fraction of map covered: 0.9775\n",
      "number of rectangles: 370 fraction of map covered: 0.9781\n",
      "number of rectangles: 380 fraction of map covered: 0.9781\n",
      "number of rectangles: 390 fraction of map covered: 0.9806\n",
      "number of rectangles: 400 fraction of map covered: 0.9806\n",
      "number of rectangles: 410 fraction of map covered: 0.9806\n",
      "number of rectangles: 420 fraction of map covered: 0.9823\n",
      "number of rectangles: 430 fraction of map covered: 0.9831\n",
      "number of rectangles: 440 fraction of map covered: 0.9831\n",
      "number of rectangles: 450 fraction of map covered: 0.9831\n",
      "number of rectangles: 460 fraction of map covered: 0.9835\n",
      "number of rectangles: 470 fraction of map covered: 0.9835\n",
      "number of rectangles: 480 fraction of map covered: 0.9835\n",
      "number of rectangles: 490 fraction of map covered: 0.9835\n",
      "number of rectangles: 500 fraction of map covered: 0.9835\n",
      "number of rectangles: 510 fraction of map covered: 0.989\n",
      "number of rectangles: 520 fraction of map covered: 0.989\n",
      "number of rectangles: 530 fraction of map covered: 0.989\n",
      "number of rectangles: 540 fraction of map covered: 0.989\n",
      "number of rectangles: 550 fraction of map covered: 0.9894\n",
      "number of rectangles: 560 fraction of map covered: 0.9894\n",
      "number of rectangles: 570 fraction of map covered: 0.9916\n",
      "number of rectangles: 580 fraction of map covered: 0.9916\n",
      "number of rectangles: 590 fraction of map covered: 0.9918\n",
      "number of rectangles: 600 fraction of map covered: 0.9923\n",
      "number of rectangles: 610 fraction of map covered: 0.9923\n",
      "number of rectangles: 620 fraction of map covered: 0.9924\n",
      "number of rectangles: 630 fraction of map covered: 0.9924\n",
      "number of rectangles: 640 fraction of map covered: 0.993\n",
      "number of rectangles: 650 fraction of map covered: 0.993\n",
      "number of rectangles: 660 fraction of map covered: 0.9934\n",
      "number of rectangles: 670 fraction of map covered: 0.9934\n",
      "number of rectangles: 680 fraction of map covered: 0.9934\n",
      "number of rectangles: 690 fraction of map covered: 0.9934\n",
      "number of rectangles: 700 fraction of map covered: 0.9936\n",
      "number of rectangles: 710 fraction of map covered: 0.9954\n",
      "number of rectangles: 720 fraction of map covered: 0.9957\n",
      "number of rectangles: 730 fraction of map covered: 0.9958\n",
      "number of rectangles: 740 fraction of map covered: 0.9958\n",
      "number of rectangles: 750 fraction of map covered: 0.9958\n",
      "number of rectangles: 760 fraction of map covered: 0.9958\n",
      "number of rectangles: 770 fraction of map covered: 0.9958\n",
      "number of rectangles: 780 fraction of map covered: 0.9961\n",
      "number of rectangles: 790 fraction of map covered: 0.9961\n",
      "number of rectangles: 800 fraction of map covered: 0.9961\n",
      "number of rectangles: 810 fraction of map covered: 0.9961\n",
      "number of rectangles: 820 fraction of map covered: 0.9961\n",
      "number of rectangles: 830 fraction of map covered: 0.9961\n",
      "number of rectangles: 840 fraction of map covered: 0.9961\n",
      "number of rectangles: 850 fraction of map covered: 0.9962\n",
      "number of rectangles: 860 fraction of map covered: 0.9962\n",
      "number of rectangles: 870 fraction of map covered: 0.9962\n",
      "number of rectangles: 880 fraction of map covered: 0.9962\n",
      "number of rectangles: 890 fraction of map covered: 0.9962\n",
      "number of rectangles: 900 fraction of map covered: 0.997\n",
      "number of rectangles: 910 fraction of map covered: 0.997\n",
      "number of rectangles: 920 fraction of map covered: 0.997\n",
      "number of rectangles: 930 fraction of map covered: 0.9976\n",
      "number of rectangles: 940 fraction of map covered: 0.9976\n",
      "number of rectangles: 950 fraction of map covered: 0.9976\n",
      "number of rectangles: 960 fraction of map covered: 0.9976\n",
      "number of rectangles: 970 fraction of map covered: 0.9976\n",
      "number of rectangles: 980 fraction of map covered: 0.9976\n",
      "number of rectangles: 990 fraction of map covered: 0.9976\n",
      "number of rectangles: 1000 fraction of map covered: 0.9976\n"
     ]
    }
   ],
   "source": [
    "shape=(100,100)\n",
    "m = Map(shape)      # create the map\n",
    "i = 0\n",
    "for i in range(1000):\n",
    "#while True:\n",
    "    rect = create_rectangle(shape) #generate rectangle\n",
    "    m.add_rectangle(rect)          # add that rectangle to the map\n",
    "    if i%10 == 9:\n",
    "        print 'number of rectangles:', i+1, 'fraction of map covered:', m.fraction_of_map_covered()"
   ]
  },
  {
   "cell_type": "markdown",
   "metadata": {},
   "source": [
    "##### Find on average the coverage of using 10 rectangles."
   ]
  },
  {
   "cell_type": "code",
   "execution_count": 126,
   "metadata": {},
   "outputs": [
    {
     "name": "stdout",
     "output_type": "stream",
     "text": [
      "average coverage is: 0.7185500000000004\n"
     ]
    }
   ],
   "source": [
    "# find on average the coverage of using 10 rectangles\n",
    "\n",
    "shape=(10,10)\n",
    "num_exp = 1000\n",
    "res = []\n",
    "for k in range(num_exp):\n",
    "    m = Map(shape)      # create the map\n",
    "    i = 0\n",
    "    for i in range(10):\n",
    "        rect = create_rectangle(shape) #generate rectangle\n",
    "        m.add_rectangle(rect)          # add that rectangle to the map\n",
    "    fraction_covered = m.fraction_of_map_covered()\n",
    "    res.append(fraction_covered)\n",
    "\n",
    "#print res\n",
    "print 'average coverage is:', sum(res)*1.0/len(res)"
   ]
  },
  {
   "cell_type": "markdown",
   "metadata": {},
   "source": [
    "##### Find the relationship between the residual area and the number of rectangles\n",
    "\n",
    "Here we suppose it's 10*10 shape map, and store the coverage of 10, 20, ...200 rectangles. Repeat for 1000 times to get a result.\n",
    "\n",
    "Find average the coverage of using n rectangles :"
   ]
  },
  {
   "cell_type": "code",
   "execution_count": 127,
   "metadata": {},
   "outputs": [
    {
     "name": "stdout",
     "output_type": "stream",
     "text": [
      "[2.7677e-01 1.1858e-01 5.6200e-02 2.9460e-02 1.6430e-02 9.7000e-03\n",
      " 5.7800e-03 3.6600e-03 2.3800e-03 1.4800e-03 9.8000e-04 7.0000e-04\n",
      " 5.5000e-04 4.0000e-04 2.6000e-04 1.4000e-04 9.0000e-05 7.0000e-05\n",
      " 2.0000e-05 2.0000e-05]\n"
     ]
    }
   ],
   "source": [
    "# find on average the residual of using n rectangles\n",
    "\n",
    "shape=(10,10)\n",
    "num_exp = 1000\n",
    "n_max = 200\n",
    "res = []\n",
    "for k in range(num_exp):\n",
    "    m = Map(shape)      # create the map\n",
    "    i = 0\n",
    "    res_k = []\n",
    "    for i in range(n_max):\n",
    "        rect = create_rectangle(shape) # generate rectangle\n",
    "        m.add_rectangle(rect)          # add that rectangle to the map\n",
    "        if (i+1)%10 == 0:\n",
    "            res_k.append(m.fraction_of_map_covered())\n",
    "            \n",
    "    res.append(res_k)\n",
    "res = np.array(res)   \n",
    "residual = 1-(sum(res)/num_exp)\n",
    "print residual"
   ]
  },
  {
   "cell_type": "markdown",
   "metadata": {},
   "source": [
    "Plot the relationship of residual against number of rectangles:\n",
    "* log-log plot of residual\n",
    "* log plot of residual\n",
    "* plot of residual\n"
   ]
  },
  {
   "cell_type": "code",
   "execution_count": 128,
   "metadata": {
    "scrolled": false
   },
   "outputs": [
    {
     "data": {
      "image/png": "[encoded data removed]",
      "text/plain": [
       "<matplotlib.figure.Figure at 0x90dcb70>"
      ]
     },
     "metadata": {},
     "output_type": "display_data"
    },
    {
     "data": {
      "image/png": "[encoded data removed]",
      "text/plain": [
       "<matplotlib.figure.Figure at 0x96bb978>"
      ]
     },
     "metadata": {},
     "output_type": "display_data"
    },
    {
     "data": {
      "image/png": "[encoded data removed]",
      "text/plain": [
       "<matplotlib.figure.Figure at 0x9422048>"
      ]
     },
     "metadata": {},
     "output_type": "display_data"
    }
   ],
   "source": [
    "x = np.array(range(10,201,10))\n",
    "# log-log plot of residual\n",
    "plt.plot(np.log(x), np.log(residual), marker='o')\n",
    "plt.show()\n",
    "# log plot of residual\n",
    "plt.plot(x, np.log(residual), marker='o')\n",
    "plt.show()\n",
    "# plot of residual\n",
    "plt.plot(x, residual, marker='o')\n",
    "plt.show()"
   ]
  },
  {
   "cell_type": "markdown",
   "metadata": {},
   "source": [
    "We can get a conclusion that it has a exponential relationship."
   ]
  },
  {
   "cell_type": "code",
   "execution_count": 129,
   "metadata": {},
   "outputs": [
    {
     "data": {
      "image/png": "[encoded data removed]",
      "text/plain": [
       "<matplotlib.figure.Figure at 0x8defc88>"
      ]
     },
     "metadata": {},
     "output_type": "display_data"
    }
   ],
   "source": [
    "import matplotlib.patches as patches\n",
    "import matplotlib.pyplot as plt\n",
    "rect_lst = m.rect_on_map_list()\n",
    "shape = m.shape\n",
    "#print rect_lst\n",
    "fig, ax = plt.subplots(1)\n",
    "# Create a Rectangle patch\n",
    "plt.xlim((0, shape[0]))\n",
    "plt.ylim((0, shape[1]))\n",
    "\n",
    "n = len(rect_lst)\n",
    "for i, rect in enumerate(rect_lst):\n",
    "    xmin,xmax,ymin,ymax = rect.get_position()\n",
    "    corner = [xmin, ymin]\n",
    "    h = xmax-xmin+1\n",
    "    w = ymax-ymin+1\n",
    "    c = [(n-i)*1.0/n, (n-i)*1.0/n, i*1.0/n]\n",
    "    c = list(np.random.choice(range(256), size=3)/255.0)\n",
    "    ax.add_patch(patches.Rectangle(corner, h, w, facecolor=c))\n",
    "    \n",
    "plt.show()\n"
   ]
  },
  {
   "cell_type": "markdown",
   "metadata": {},
   "source": [
    "### Question 3 - On average, how many communications towers are required before full coverage is obtained?\n",
    "\n",
    "Here we suppose a 10*10 map and run for 200 times to get an average number.\n"
   ]
  },
  {
   "cell_type": "code",
   "execution_count": 130,
   "metadata": {},
   "outputs": [
    {
     "name": "stdout",
     "output_type": "stream",
     "text": [
      "on average it take this many rectangles to cover the entire region: 73.565\n"
     ]
    }
   ],
   "source": [
    "# find average number of rectangle needed to cover the entire region.\n",
    "\n",
    "shape=(10,10)\n",
    "max_n_rectangles = 5000\n",
    "\n",
    "num_exp = 200\n",
    "res = []\n",
    "for k in range(num_exp):\n",
    "    m = Map(shape)      # create the map\n",
    "    i = 0\n",
    "    flag = False\n",
    "    while (not flag) and i<max_n_rectangles:\n",
    "        rect = create_rectangle(shape) #generate rectangle\n",
    "        m.add_rectangle(rect)          # add that rectangle to the map\n",
    "        i += 1\n",
    "        flag = m.is_fully_covered()\n",
    "    res.append(i)\n",
    "#print res\n",
    "print 'on average it take this many rectangles to cover the entire region:', sum(res)*1.0/len(res)"
   ]
  },
  {
   "cell_type": "code",
   "execution_count": null,
   "metadata": {},
   "outputs": [],
   "source": []
  }
 ],
 "metadata": {
  "kernelspec": {
   "display_name": "Python 2",
   "language": "python",
   "name": "python2"
  },
  "language_info": {
   "codemirror_mode": {
    "name": "ipython",
    "version": 2
   },
   "file_extension": ".py",
   "mimetype": "text/x-python",
   "name": "python",
   "nbconvert_exporter": "python",
   "pygments_lexer": "ipython2",
   "version": "2.7.14"
  }
 },
 "nbformat": 4,
 "nbformat_minor": 2
}
